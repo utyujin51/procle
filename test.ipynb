{
 "cells": [
  {
   "cell_type": "markdown",
   "id": "eee69830",
   "metadata": {},
   "source": [
    "# import "
   ]
  },
  {
   "cell_type": "code",
   "execution_count": 1,
   "id": "a671f0ae",
   "metadata": {},
   "outputs": [],
   "source": [
    "import pandas as pd\n",
    "import glob\n",
    "import numpy as np\n",
    "import os"
   ]
  },
  {
   "cell_type": "markdown",
   "id": "96533bb7",
   "metadata": {},
   "source": [
    "# CSV変換"
   ]
  },
  {
   "cell_type": "code",
   "execution_count": 10,
   "id": "0a28ddfb",
   "metadata": {},
   "outputs": [
    {
     "name": "stdout",
     "output_type": "stream",
     "text": [
      "'C:\\Users\\chaki\\Desktop\\porocle\\2025ポロクルワンデーパスデータ\\利用履歴データ_2019-2024\\20250515_利用履歴2019-2024_csvs' フォルダを作成しました。\n",
      "読み込むシート: ['2019', '2020', '2021', '2022', '2023', '2024']\n",
      "シート '2019' を処理中...\n",
      " -> 'C:\\Users\\chaki\\Desktop\\porocle\\2025ポロクルワンデーパスデータ\\利用履歴データ_2019-2024\\20250515_利用履歴2019-2024_csvs\\2019.csv' として保存しました。\n",
      "シート '2020' を処理中...\n",
      " -> 'C:\\Users\\chaki\\Desktop\\porocle\\2025ポロクルワンデーパスデータ\\利用履歴データ_2019-2024\\20250515_利用履歴2019-2024_csvs\\2020.csv' として保存しました。\n",
      "シート '2021' を処理中...\n",
      " -> 'C:\\Users\\chaki\\Desktop\\porocle\\2025ポロクルワンデーパスデータ\\利用履歴データ_2019-2024\\20250515_利用履歴2019-2024_csvs\\2021.csv' として保存しました。\n",
      "シート '2022' を処理中...\n",
      " -> 'C:\\Users\\chaki\\Desktop\\porocle\\2025ポロクルワンデーパスデータ\\利用履歴データ_2019-2024\\20250515_利用履歴2019-2024_csvs\\2022.csv' として保存しました。\n",
      "シート '2023' を処理中...\n",
      " -> 'C:\\Users\\chaki\\Desktop\\porocle\\2025ポロクルワンデーパスデータ\\利用履歴データ_2019-2024\\20250515_利用履歴2019-2024_csvs\\2023.csv' として保存しました。\n",
      "シート '2024' を処理中...\n",
      " -> 'C:\\Users\\chaki\\Desktop\\porocle\\2025ポロクルワンデーパスデータ\\利用履歴データ_2019-2024\\20250515_利用履歴2019-2024_csvs\\2024.csv' として保存しました。\n"
     ]
    }
   ],
   "source": [
    "# --- 設定 ---\n",
    "# 変換したいExcelファイルの名前を指定\n",
    "excel_file_path = r\"C:\\Users\\chaki\\Desktop\\porocle\\2025ポロクルワンデーパスデータ\\利用履歴データ_2019-2024\\20250515_利用履歴2019-2024.xlsx\"\n",
    "#excel_file_path = r\"C:\\Users\\chaki\\Desktop\\porocle\\2025ポロクルワンデーパスデータ\\利用履歴データ_2019-2024\\250711_【2019-2024】ポロクル1日パス利用者属性.xlsx\"\n",
    "# --- これ以降は変更不要 ---\n",
    "\n",
    "try:\n",
    "    # Excelファイルを読み込むためのオブジェクトを作成\n",
    "    xls = pd.ExcelFile(excel_file_path)\n",
    "except FileNotFoundError:\n",
    "    print(f\"エラー: ファイル '{excel_file_path}' が見つかりません。\")\n",
    "    exit()\n",
    "\n",
    "# 出力用のフォルダ名を作成 (例: your_excel_file_csvs)\n",
    "output_dir = f\"{os.path.splitext(excel_file_path)[0]}_csvs\"\n",
    "os.makedirs(output_dir, exist_ok=True) # フォルダが既にあってもエラーにしない\n",
    "print(f\"'{output_dir}' フォルダを作成しました。\")\n",
    "\n",
    "\n",
    "# Excelファイル内のすべてのシート名を取得\n",
    "sheet_names = xls.sheet_names\n",
    "print(f\"読み込むシート: {sheet_names}\")\n",
    "\n",
    "# 各シートをループしてCSVに変換\n",
    "for sheet_name in sheet_names:\n",
    "    print(f\"シート '{sheet_name}' を処理中...\")\n",
    "    \n",
    "    # ...（シートの読み込み）...\n",
    "    df = pd.read_excel(xls, sheet_name=sheet_name)\n",
    "    # ★★★ ここでシート名をファイル名にしています ★★★\n",
    "    csv_file_name = f\"{sheet_name}.csv\"\n",
    "    output_path = os.path.join(output_dir, csv_file_name)\n",
    "    \n",
    "    # CSVファイルとして保存\n",
    "    df.to_csv(output_path, index=False, encoding='utf-8-sig')\n",
    "    print(f\" -> '{output_path}' として保存しました。\")"
   ]
  },
  {
   "cell_type": "markdown",
   "id": "7ba722a7",
   "metadata": {},
   "source": [
    "# 2024データ結合"
   ]
  },
  {
   "cell_type": "code",
   "execution_count": 4,
   "metadata": {},
   "outputs": [],
   "source": [
    "data_list = glob.glob(r\"C:\\Users\\chaki\\Desktop\\porocle\\2025ポロクルワンデーパスデータ\\GPSデータ\\2024_1分間隔_600台\\*.csv\")"
   ]
  },
  {
   "cell_type": "code",
   "execution_count": 17,
   "id": "f8ed0196",
   "metadata": {},
   "outputs": [],
   "source": [
    "df = pd.DataFrame()\n",
    "for i in range(len(data_list)):\n",
    "    df_temp = pd.read_csv(data_list[i],encoding=\"shift-jis\")\n",
    "    df_temp['date_num'] = i\n",
    "    df = pd.concat([df,df_temp])\n"
   ]
  },
  {
   "cell_type": "code",
   "execution_count": 8,
   "metadata": {},
   "outputs": [],
   "source": [
    "df = pd.read_csv(data_list[0],encoding='shift-jis')"
   ]
  },
  {
   "cell_type": "code",
   "execution_count": 14,
   "metadata": {},
   "outputs": [
    {
     "data": {
      "application/vnd.microsoft.datawrangler.viewer.v0+json": {
       "columns": [
        {
         "name": "会員プラン",
         "rawType": "object",
         "type": "string"
        },
        {
         "name": "count",
         "rawType": "int64",
         "type": "integer"
        }
       ],
       "ref": "553f9a34-955f-4810-9c22-6c8846d61979",
       "rows": [
        [
         "１回会員/One Trip Membership",
         "6446378"
        ],
        [
         "非課金",
         "3516381"
        ],
        [
         "月額会員/Monthly Membership",
         "3486044"
        ],
        [
         "一回会員/One Trip Membership",
         "1047682"
        ],
        [
         "法人月額会員プレミアム",
         "805850"
        ],
        [
         "セブンイレブン1日パス",
         "325919"
        ],
        [
         "法人月額会員ライト",
         "318657"
        ],
        [
         "ファミリーマート1日パス",
         "184463"
        ],
        [
         "1回利用/1-time-use",
         "141700"
        ],
        [
         "1回利用/One Trip Membership",
         "130793"
        ],
        [
         "1回プラン/One Trip Membership",
         "90311"
        ],
        [
         "無料プラン/Free plan",
         "83314"
        ],
        [
         "Fプラン",
         "67164"
        ],
        [
         "１回プラン/One Trip Membership",
         "53107"
        ],
        [
         "１回プラン(150円／30分)/One Trip Membership",
         "46995"
        ],
        [
         "1回会員/One Trip Membership",
         "43504"
        ],
        [
         "１回利用/One Trip Membership",
         "30656"
        ],
        [
         "都度利用(単価固定)",
         "18772"
        ],
        [
         "ショートライド/Short Ride",
         "18529"
        ],
        [
         "１回利用/1-time-use",
         "14982"
        ],
        [
         "1回プラン (ローミングイン)/One Trip Membership (Roaming-in)",
         "7481"
        ],
        [
         "下吉田１回プラン/One Trip Membership-Shimoyoshida-",
         "56"
        ]
       ],
       "shape": {
        "columns": 1,
        "rows": 22
       }
      },
      "text/plain": [
       "会員プラン\n",
       "１回会員/One Trip Membership                            6446378\n",
       "非課金                                                 3516381\n",
       "月額会員/Monthly Membership                             3486044\n",
       "一回会員/One Trip Membership                            1047682\n",
       "法人月額会員プレミアム                                          805850\n",
       "セブンイレブン1日パス                                          325919\n",
       "法人月額会員ライト                                            318657\n",
       "ファミリーマート1日パス                                         184463\n",
       "1回利用/1-time-use                                      141700\n",
       "1回利用/One Trip Membership                             130793\n",
       "1回プラン/One Trip Membership                             90311\n",
       "無料プラン/Free plan                                       83314\n",
       "Fプラン                                                  67164\n",
       "１回プラン/One Trip Membership                             53107\n",
       "１回プラン(150円／30分)/One Trip Membership                   46995\n",
       "1回会員/One Trip Membership                              43504\n",
       "１回利用/One Trip Membership                              30656\n",
       "都度利用(単価固定)                                            18772\n",
       "ショートライド/Short Ride                                    18529\n",
       "１回利用/1-time-use                                       14982\n",
       "1回プラン (ローミングイン)/One Trip Membership (Roaming-in)       7481\n",
       "下吉田１回プラン/One Trip Membership-Shimoyoshida-               56\n",
       "Name: count, dtype: int64"
      ]
     },
     "execution_count": 14,
     "metadata": {},
     "output_type": "execute_result"
    }
   ],
   "source": [
    "df['会員プラン'].value_counts()"
   ]
  },
  {
   "cell_type": "code",
   "execution_count": 22,
   "id": "a1a7b274",
   "metadata": {},
   "outputs": [],
   "source": [
    "df.to_csv(r\"C:\\Users\\chaki\\Desktop\\porocle\\2025ポロクルワンデーパスデータ\\GPSデータ\\2024_1分間隔_600台\\2024merge.csv\")"
   ]
  },
  {
   "cell_type": "markdown",
   "id": "94ed906d",
   "metadata": {},
   "source": [
    "# 利用者属性集計\n"
   ]
  },
  {
   "cell_type": "code",
   "execution_count": 11,
   "id": "ef831192",
   "metadata": {},
   "outputs": [],
   "source": [
    "att_list = glob.glob(r\"C:\\Users\\chaki\\Desktop\\porocle\\2025ポロクルワンデーパスデータ\\利用履歴データ_2019-2024\\250711_【2019-2024】ポロクル1日パス利用者属性_csvs\\*.csv\")"
   ]
  },
  {
   "cell_type": "code",
   "execution_count": null,
   "id": "db22a21a",
   "metadata": {},
   "outputs": [
    {
     "data": {
      "application/vnd.microsoft.datawrangler.viewer.v0+json": {
       "columns": [
        {
         "name": "国籍",
         "rawType": "object",
         "type": "string"
        },
        {
         "name": "2019",
         "rawType": "float64",
         "type": "float"
        },
        {
         "name": "2020",
         "rawType": "float64",
         "type": "float"
        },
        {
         "name": "2021",
         "rawType": "float64",
         "type": "float"
        },
        {
         "name": "2022",
         "rawType": "float64",
         "type": "float"
        },
        {
         "name": "2023",
         "rawType": "float64",
         "type": "float"
        },
        {
         "name": "2024",
         "rawType": "float64",
         "type": "float"
        }
       ],
       "ref": "aa7a550f-fb28-40a7-8aa6-56d6d3d86ba5",
       "rows": [
        [
         "不明",
         "41.27411395244504",
         "75.69721115537848",
         "79.5788442703232",
         "81.07966457023062",
         "18.910932883073027",
         "12.459789834870255"
        ],
        [
         "国内",
         "39.748766262898165",
         "24.018212862834375",
         "20.07835455435847",
         "18.527253668763105",
         "58.46348670325031",
         "51.37250696976195"
        ],
        [
         "国外",
         "18.977119784656796",
         "0.28457598178713717",
         "0.34280117531831533",
         "0.39308176100628933",
         "22.625580413676655",
         "36.167703195367785"
        ]
       ],
       "shape": {
        "columns": 6,
        "rows": 3
       }
      },
      "text/html": [
       "<div>\n",
       "<style scoped>\n",
       "    .dataframe tbody tr th:only-of-type {\n",
       "        vertical-align: middle;\n",
       "    }\n",
       "\n",
       "    .dataframe tbody tr th {\n",
       "        vertical-align: top;\n",
       "    }\n",
       "\n",
       "    .dataframe thead th {\n",
       "        text-align: right;\n",
       "    }\n",
       "</style>\n",
       "<table border=\"1\" class=\"dataframe\">\n",
       "  <thead>\n",
       "    <tr style=\"text-align: right;\">\n",
       "      <th></th>\n",
       "      <th>2019</th>\n",
       "      <th>2020</th>\n",
       "      <th>2021</th>\n",
       "      <th>2022</th>\n",
       "      <th>2023</th>\n",
       "      <th>2024</th>\n",
       "    </tr>\n",
       "    <tr>\n",
       "      <th>国籍</th>\n",
       "      <th></th>\n",
       "      <th></th>\n",
       "      <th></th>\n",
       "      <th></th>\n",
       "      <th></th>\n",
       "      <th></th>\n",
       "    </tr>\n",
       "  </thead>\n",
       "  <tbody>\n",
       "    <tr>\n",
       "      <th>不明</th>\n",
       "      <td>41.274114</td>\n",
       "      <td>75.697211</td>\n",
       "      <td>79.578844</td>\n",
       "      <td>81.079665</td>\n",
       "      <td>18.910933</td>\n",
       "      <td>12.459790</td>\n",
       "    </tr>\n",
       "    <tr>\n",
       "      <th>国内</th>\n",
       "      <td>39.748766</td>\n",
       "      <td>24.018213</td>\n",
       "      <td>20.078355</td>\n",
       "      <td>18.527254</td>\n",
       "      <td>58.463487</td>\n",
       "      <td>51.372507</td>\n",
       "    </tr>\n",
       "    <tr>\n",
       "      <th>国外</th>\n",
       "      <td>18.977120</td>\n",
       "      <td>0.284576</td>\n",
       "      <td>0.342801</td>\n",
       "      <td>0.393082</td>\n",
       "      <td>22.625580</td>\n",
       "      <td>36.167703</td>\n",
       "    </tr>\n",
       "  </tbody>\n",
       "</table>\n",
       "</div>"
      ],
      "text/plain": [
       "         2019       2020       2021       2022       2023       2024\n",
       "国籍                                                                  \n",
       "不明  41.274114  75.697211  79.578844  81.079665  18.910933  12.459790\n",
       "国内  39.748766  24.018213  20.078355  18.527254  58.463487  51.372507\n",
       "国外  18.977120   0.284576   0.342801   0.393082  22.625580  36.167703"
      ]
     },
     "execution_count": 36,
     "metadata": {},
     "output_type": "execute_result"
    }
   ],
   "source": [
    "df2019 = pd.read_csv(att_list[0])\n",
    "df2020 = pd.read_csv(att_list[1])\n",
    "df2021 = pd.read_csv(att_list[2])\n",
    "df2022 = pd.read_csv(att_list[3])\n",
    "df2023 = pd.read_csv(att_list[4])\n",
    "df2024 = pd.read_csv(att_list[5])\n",
    "\n",
    "df2022 = df2022.replace('不明（日本人）','不明')\n",
    "all_dfs = [df2019, df2020, df2021, df2022, df2023,df2024]\n",
    "\n",
    "# 各データフレームのvalue_counts()結果をリストに格納\n",
    "counts_list = [df['国籍'].value_counts() for df in all_dfs]\n",
    "\n",
    "merged_df = pd.concat(counts_list, axis=1)\n",
    "merged_df.columns = ['2019', '2020', '2021', '2022', '2023','2024']\n",
    "final_df = merged_df.fillna(0).astype(int)\n",
    "\n",
    "final_df['2019'] /= final_df['2019'].sum()/100\n",
    "final_df['2020'] /= final_df['2020'].sum()/100\n",
    "final_df['2021'] /= final_df['2021'].sum()/100\n",
    "final_df['2022'] /= final_df['2022'].sum()/100\n",
    "final_df['2023'] /= final_df['2023'].sum()/100\n",
    "final_df['2024'] /= final_df['2024'].sum()/100\n",
    "final_df"
   ]
  },
  {
   "cell_type": "code",
   "execution_count": null,
   "id": "e80c4b10",
   "metadata": {},
   "outputs": [],
   "source": []
  }
 ],
 "metadata": {
  "kernelspec": {
   "display_name": "Hermit27",
   "language": "python",
   "name": "python3"
  },
  "language_info": {
   "codemirror_mode": {
    "name": "ipython",
    "version": 3
   },
   "file_extension": ".py",
   "mimetype": "text/x-python",
   "name": "python",
   "nbconvert_exporter": "python",
   "pygments_lexer": "ipython3",
   "version": "3.12.4"
  }
 },
 "nbformat": 4,
 "nbformat_minor": 5
}
